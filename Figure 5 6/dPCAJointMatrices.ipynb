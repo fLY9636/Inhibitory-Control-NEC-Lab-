{
 "cells": [
  {
   "cell_type": "code",
   "execution_count": null,
   "id": "c612ee04",
   "metadata": {},
   "outputs": [],
   "source": [
    "import numpy as np\n",
    "import matplotlib.pyplot as plt\n",
    "from scipy.linalg import svd, eigh, pinv\n",
    "from typing import List, Dict, Callable, Optional\n",
    "import sys\n",
    "from my_dpca_module import myDPCA\n"
   ]
  },
  {
   "cell_type": "markdown",
   "id": "27d6b296",
   "metadata": {},
   "source": [
    "### Include path for my customized dPCA class (/utils/myDPCA)"
   ]
  },
  {
   "cell_type": "code",
   "execution_count": null,
   "id": "2c02d083",
   "metadata": {},
   "outputs": [],
   "source": [
    "sys.path.append(f'{ROOTDIR}2021-22_Attention/NP 2023-12/myDPCA')"
   ]
  },
  {
   "cell_type": "code",
   "execution_count": null,
   "id": "8b2dc8e5",
   "metadata": {},
   "outputs": [],
   "source": [
    "import numpy as np\n",
    "import matplotlib.pyplot as plt\n",
    "import seaborn as sns\n",
    "from scipy.io import loadmat\n",
    "from sklearn.decomposition import PCA\n",
    "from myDPCA import dpca, dpca_plot, dpca_explainedVariance, dpca_perMarginalization, dpca_optimizeLambda, dpca_getNoiseCovariance\n",
    "\n",
    "data_dir = f'{ROOTDIR}2021-22_Attention/NP 2023-12/data for dpca/saline'\n",
    "data_files = sorted([f\"{data_dir}/{file}\" for file in os.listdir(data_dir)])\n",
    "\n",
    "combinedParams = [{'stimulus', 'stimulus/time'}, {'decision'}]\n",
    "margNames = ['Decision', 'Condition-independent']\n",
    "margColours = np.array([[187, 20, 25], [150, 150, 150]]) / 256\n",
    "\n",
    "# Load first data file to inspect structure and initialize arrays\n",
    "session_data = loadmat(data_files[0])\n",
    "session_data_punish = loadmat(data_files[71])\n",
    "\n"
   ]
  },
  {
   "cell_type": "markdown",
   "id": "72b4f0f6",
   "metadata": {},
   "source": [
    "### Testing data"
   ]
  },
  {
   "cell_type": "code",
   "execution_count": null,
   "id": "119b1314",
   "metadata": {},
   "outputs": [],
   "source": [
    "Session_PriorPunish_Train = session_data['Session_PriorPunish_Train']\n",
    "Session_PriorSuccess_Train = session_data['Session_PriorSuccess_Train']\n",
    "\n",
    "time = np.arange(Session_PriorPunish_Train[0].shape[1]) / 20 - 5\n",
    "timeEvents = [time[-1]]\n",
    "trialNum = np.zeros((len(Session_PriorPunish_Train), 2))\n",
    "trialNum[:, 0] = [train.shape[0] for train in Session_PriorPunish_Train]\n",
    "trialNum[:, 1] = [train.shape[0] for train in Session_PriorSuccess_Train]\n",
    "firingRates = np.full((len(Session_PriorPunish_Train), 2, Session_PriorPunish_Train[0].shape[1], max(trialNum[:, 0].max(), trialNum[:, 1].max())), np.nan)\n",
    "for j in range(len(Session_PriorPunish_Train)):\n",
    "    firingRates[j, 0, :, :Session_PriorPunish_Train[j].shape[0]] = Session_PriorPunish_Train[j].T\n",
    "    firingRates[j, 1, :, :Session_PriorSuccess_Train[j].shape[0]] = Session_PriorSuccess_Train[j].T\n",
    "firingRatesAverage = np.nanmean(firingRates, axis=3)\n",
    "\n",
    "X = firingRatesAverage.reshape(-1, firingRatesAverage.shape[-1])\n",
    "X = X - X.mean(axis=0)\n",
    "pca = PCA(n_components=20)\n",
    "W = pca.fit_transform(X)\n",
    "\n",
    "dpca_plot(firingRatesAverage, W, W, plot_function=dpca_plot_default)\n",
    "\n",
    "# Explained variance calculation\n",
    "explVar = dpca_explainedVariance(firingRatesAverage, W, W, combinedParams=combinedParams)\n",
    "\n",
    "dpca_plot(firingRatesAverage, W, W, plot_function=dpca_plot_default, explainedVar=explVar,\n",
    "          time=time, timeEvents=timeEvents, marginalizationNames=margNames, marginalizationColours=margColours)\n",
    "\n",
    "# dPCA without regularization (ignoring noise covariance)\n",
    "W, V, whichMarg = dpca(firingRatesAverage, n_components=20, combinedParams=combinedParams, lambda_=1e-4)\n",
    "explVar = dpca_explainedVariance(firingRatesAverage, W, V, combinedParams=combinedParams)\n",
    "\n",
    "dpca_plot(firingRatesAverage, W, V, plot_function=dpca_plot_default, explainedVar=explVar,\n",
    "          marginalizationNames=margNames, marginalizationColours=margColours, whichMarg=whichMarg,\n",
    "          time=time, timeEvents=timeEvents, timeMarginalization=3, legendSubplot=16)\n",
    "\n",
    "# dPCA with regularization\n",
    "optimalLambda = dpca_optimizeLambda(firingRatesAverage, firingRates, trialNum, combinedParams=combinedParams,\n",
    "                                    simultaneous=ifSimultaneousRecording, numRep=10, filename='tmp_optimalLambdas.mat')\n",
    "Cnoise = dpca_getNoiseCovariance(firingRatesAverage, firingRates, trialNum, simultaneous=ifSimultaneousRecording)\n",
    "\n",
    "W, V, whichMarg = dpca(firingRatesAverage, n_components=20, combinedParams=combinedParams, lambda_=optimalLambda, Cnoise=Cnoise)\n",
    "explVar = dpca_explainedVariance(firingRatesAverage, W, V, combinedParams=combinedParams)\n",
    "\n",
    "dpca_plot(firingRatesAverage, W, V, plot_function=dpca_plot_default, explainedVar=explVar,\n",
    "          marginalizationNames=margNames, marginalizationColours=margColours, whichMarg=whichMarg,\n",
    "          time=time, timeEvents=timeEvents, timeMarginalization=3, legendSubplot=16)\n",
    "\n",
    "# Optional - Decoding (classification accuracy)\n",
    "decodingClasses = {(np.arange(S), np.arange(S)), np.repeat([1, 2], S), [], (np.arange(S), np.arange(S) + S)}\n",
    "\n",
    "accuracy = dpca_classificationAccuracy(firingRatesAverage, firingRates, trialNum, lambda_=optimalLambda,\n",
    "                                       combinedParams=combinedParams, decodingClasses=decodingClasses,\n",
    "                                       simultaneous=ifSimultaneousRecording, numRep=5, filename='tmp_classification_accuracy.mat')\n",
    "\n",
    "# Plot classification accuracy\n",
    "dpca_classificationPlot(accuracy, decodingClasses=decodingClasses)"
   ]
  }
 ],
 "metadata": {
  "kernelspec": {
   "display_name": "Python 3",
   "language": "python",
   "name": "python3"
  },
  "language_info": {
   "codemirror_mode": {
    "name": "ipython",
    "version": 3
   },
   "file_extension": ".py",
   "mimetype": "text/x-python",
   "name": "python",
   "nbconvert_exporter": "python",
   "pygments_lexer": "ipython3",
   "version": "3.6.5"
  }
 },
 "nbformat": 4,
 "nbformat_minor": 5
}
