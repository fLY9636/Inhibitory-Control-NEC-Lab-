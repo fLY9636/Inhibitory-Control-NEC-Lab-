{
 "cells": [
  {
   "cell_type": "code",
   "execution_count": null,
   "id": "d745c345",
   "metadata": {},
   "outputs": [],
   "source": [
    "import numpy as np\n",
    "import matplotlib.pyplot as plt\n",
    "from scipy.io import loadmat\n",
    "from scipy.stats import sem"
   ]
  },
  {
   "cell_type": "code",
   "execution_count": null,
   "id": "a5f3dbfd",
   "metadata": {},
   "outputs": [],
   "source": [
    "Behavior_files, Phot_files, Pupil_files, MetaData_files, MetaDataX_files, ANIMAL_IDs, ANIMAL_VARs = DirectoryAlloc_testedit(ROOTDIR, 207, 0)\n",
    "\n",
    "# Define loop index and subject index\n",
    "loopIDX = range(3)\n",
    "subjIDX = [ANIMAL_VARs[ANIMAL_IDs[i]] for i in loopIDX]\n",
    "OFCIDX = list(range(len(Behavior_files)))\n",
    "\n",
    "# Load sorted file list\n",
    "file_dir = r'C:\\Users\\NEC_GPU\\Downloads\\data from Qi\\DCZ'\n",
    "files = natsortfiles(filename_scan(file_dir))\n",
    "\n",
    "lumped_channel_info = []\n",
    "METAMATRIX = MetaSPK_test_CNO  \n",
    "# Iterate over specific files and gather channel info\n",
    "for idx in subjIDX[2][-5:]:\n",
    "    data = loadmat(files[idx + 10])  \n",
    "    goodunit_idx = np.where((METAMATRIX['Unit_type'][idx] == 1) | \n",
    "                            (METAMATRIX['Unit_type'][idx] == 10) & \n",
    "                            (METAMATRIX['Unit_level'][idx] > 1))[0]\n",
    "    \n",
    "    gathered_channel_info = METAMATRIX['Unit_map'][idx][goodunit_idx, 1]  \n",
    "    lumped_channel_info.append(gathered_channel_info)\n",
    "\n",
    "# Concatenate and calculate histogram\n",
    "lumped_session_channel_info = np.concatenate(lumped_channel_info)\n",
    "edges_to_use = np.arange(0, 202, 2)  # Define histogram edges\n",
    "\n",
    "mean_channel_info = []\n",
    "for info in lumped_channel_info:\n",
    "    hist_counts, edges = np.histogram(info, bins=edges_to_use, density=True)\n",
    "    mean_channel_info.append(hist_counts)\n",
    "\n",
    "# Convert to numpy array and calculate mean and SEM\n",
    "mean_channel_info = np.array(mean_channel_info)\n",
    "mean_values = np.nanmean(mean_channel_info, axis=0)\n",
    "sem_values = sem(mean_channel_info, axis=0, nan_policy='omit')\n",
    "\n",
    "# Plot the mean and SEM\n",
    "plt.figure()\n",
    "plt.fill_between(edges[:-1], mean_values - sem_values, mean_values + sem_values, color='gray', alpha=0.5)\n",
    "plt.plot(edges[:-1], mean_values, 'k', linewidth=1.5)\n",
    "plt.xlabel('Depth *10 (um)')\n",
    "plt.ylabel('Fraction')\n",
    "plt.show()\n"
   ]
  }
 ],
 "metadata": {
  "kernelspec": {
   "display_name": "Python 3",
   "language": "python",
   "name": "python3"
  },
  "language_info": {
   "codemirror_mode": {
    "name": "ipython",
    "version": 3
   },
   "file_extension": ".py",
   "mimetype": "text/x-python",
   "name": "python",
   "nbconvert_exporter": "python",
   "pygments_lexer": "ipython3",
   "version": "3.6.5"
  }
 },
 "nbformat": 4,
 "nbformat_minor": 5
}
