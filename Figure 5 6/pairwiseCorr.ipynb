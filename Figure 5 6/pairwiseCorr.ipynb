{
 "cells": [
  {
   "cell_type": "code",
   "execution_count": null,
   "id": "e4bcd391",
   "metadata": {},
   "outputs": [],
   "source": [
    "import numpy as np\n",
    "import matplotlib.pyplot as plt\n",
    "import seaborn as sns\n",
    "from scipy.stats import pearsonr"
   ]
  },
  {
   "cell_type": "code",
   "execution_count": null,
   "id": "85ec6e5e",
   "metadata": {},
   "outputs": [],
   "source": [
    "Behavior_files, Phot_files, Pupil_files, MetaData_files, MetaDataX_files, ANIMAL_IDs, ANIMAL_VARs = DirectoryAlloc_testedit(ROOTDIR, 200, 0)\n",
    "\n",
    "loopIDX = [0]  \n",
    "subjIDX = [ANIMAL_VARs[ANIMAL_IDs[i]] for i in loopIDX]\n",
    "\n",
    "# Load MetaSPK_test and initialize index variables\n",
    "MetaSPK_test = loadmat(ROOTDIR + '2021-22_Attention/NP 2023-12/MetaSPK_test')['MetaSPK_test']\n",
    "OFCIDX = range(len(MetaSPK_test))\n",
    "len_idx = len(OFCIDX)\n",
    "\n",
    "pairwise_CCF_FR0_Success = [None] * len_idx\n",
    "pairwise_CCF_FR0_Punish = [None] * len_idx\n",
    "\n",
    "idx_st = CrossSampling(tt_success, -3)\n",
    "idx_ed = CrossSampling(tt_success, -1)\n",
    "\n",
    "# Calculate pairwise correlations for success and punish data\n",
    "for i in range(len_idx):\n",
    "    success_corr, success_pvals = np.corrcoef(Lumped_PriorSuccess_FR0[i][:, idx_st:idx_ed].T)\n",
    "    punish_corr, punish_pvals = np.corrcoef(Lumped_PriorPunish_FR0[i][:, idx_st:idx_ed].T)\n",
    "    pairwise_CCF_FR0_Success[i] = (success_corr, success_pvals)\n",
    "    pairwise_CCF_FR0_Punish[i] = (punish_corr, punish_pvals)\n",
    "\n",
    "# Display example correlation heatmaps for the session 8\n",
    "i = 7  \n",
    "fig, axes = plt.subplots(2, 1, figsize=(10, 8))\n",
    "\n",
    "sns.heatmap(pairwise_CCF_FR0_Success[i][0], cmap='jet', vmin=-0.8, vmax=1, ax=axes[0], cbar=True)\n",
    "axes[0].set_title(\"Success Pairwise Correlation\")\n",
    "sns.heatmap(pairwise_CCF_FR0_Punish[i][0], cmap='jet', vmin=-0.8, vmax=1, ax=axes[1], cbar=True)\n",
    "axes[1].set_title(\"Punish Pairwise Correlation\")\n",
    "plt.tight_layout()\n",
    "plt.show()\n",
    "\n",
    "# Plot histogram and scatter for significant correlations\n",
    "plt.figure(figsize=(10, 6))\n",
    "for i in range(len_idx):\n",
    "    # Mask p-values above 0.05 and only keep upper triangular values\n",
    "    success_pvals = np.triu(pairwise_CCF_FR0_Success[i][1], 1)\n",
    "    success_pvals[np.where(success_pvals == 0) | (success_pvals > 0.05)] = np.nan\n",
    "    success_pvals[np.where(success_pvals <= 0.05)] = 1\n",
    "    significant_CCF_Success = pairwise_CCF_FR0_Success[i][0] * success_pvals\n",
    "\n",
    "    punish_pvals = np.triu(pairwise_CCF_FR0_Punish[i][1], 1)\n",
    "    punish_pvals[np.where(punish_pvals == 0) | (punish_pvals > 0.05)] = np.nan\n",
    "    punish_pvals[np.where(punish_pvals <= 0.05)] = 1\n",
    "    significant_CCF_Punish = pairwise_CCF_FR0_Punish[i][0] * punish_pvals\n",
    "\n",
    "    plt.scatter(np.nanmean(np.abs(significant_CCF_Punish)), np.nanmean(np.abs(significant_CCF_Success)), s=20, c='k', marker='o')\n",
    "\n",
    "plt.xlabel('Mean Absolute Correlation (Punish)')\n",
    "plt.ylabel('Mean Absolute Correlation (Success)')\n",
    "plt.title('Significant Pairwise Correlations for Success and Punish Conditions')\n",
    "plt.show()\n"
   ]
  }
 ],
 "metadata": {
  "kernelspec": {
   "display_name": "Python 3",
   "language": "python",
   "name": "python3"
  },
  "language_info": {
   "codemirror_mode": {
    "name": "ipython",
    "version": 3
   },
   "file_extension": ".py",
   "mimetype": "text/x-python",
   "name": "python",
   "nbconvert_exporter": "python",
   "pygments_lexer": "ipython3",
   "version": "3.6.5"
  }
 },
 "nbformat": 4,
 "nbformat_minor": 5
}
