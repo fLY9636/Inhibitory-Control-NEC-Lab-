{
 "cells": [
  {
   "cell_type": "code",
   "execution_count": null,
   "id": "63eedfc1",
   "metadata": {},
   "outputs": [],
   "source": [
    "import numpy as np\n",
    "from scipy.interpolate import interp1d"
   ]
  },
  {
   "cell_type": "markdown",
   "id": "4c3461fc",
   "metadata": {},
   "source": [
    "### Function definition"
   ]
  },
  {
   "cell_type": "code",
   "execution_count": null,
   "id": "810d9b87",
   "metadata": {},
   "outputs": [],
   "source": [
    "def extract_waveform_features_1(waveform, interpolation_factor):\n",
    "    \"\"\"\n",
    "    Extract features from a waveform:\n",
    "    1. AP Peak Width (Full-Width Half Maximum of the peak)\n",
    "    2. Trough to Peak Duration\n",
    "    \n",
    "    Parameters:\n",
    "    waveform (numpy array): The waveform signal\n",
    "    interpolation_factor (int): Factor by which to interpolate the waveform\n",
    "    \n",
    "    Returns:\n",
    "    features (numpy array): Array containing the AP Peak Width and Trough to Peak Duration\n",
    "    \"\"\"\n",
    "    features = np.zeros(2)\n",
    "    \n",
    "    # Original and interpolated time vectors\n",
    "    original_time = np.arange(len(waveform))\n",
    "    interpolated_time = np.linspace(0, len(waveform) - 1, len(waveform) * interpolation_factor)\n",
    "    \n",
    "    # Interpolate waveform using cubic spline\n",
    "    interp_func = interp1d(original_time, waveform, kind='cubic')\n",
    "    interpolated_waveform = interp_func(interpolated_time)\n",
    "    \n",
    "    # 1. AP Peak Width (Full-Width Half Maximum)\n",
    "    peak_index = np.argmax(interpolated_waveform)\n",
    "    half_max = interpolated_waveform[peak_index] / 2\n",
    "    \n",
    "    # Find left and right indices around peak that reach half maximum\n",
    "    left_indices = np.where(interpolated_waveform[:peak_index] >= half_max)[0]\n",
    "    right_indices = np.where(interpolated_waveform[peak_index:] >= half_max)[0] + peak_index\n",
    "    \n",
    "    if left_indices.size > 0 and right_indices.size > 0:\n",
    "        left_index = left_indices[0]\n",
    "        right_index = right_indices[-1]\n",
    "        features[0] = (right_index - left_index) / interpolation_factor\n",
    "    else:\n",
    "        features[0] = np.nan  # Assign NaN if no full-width at half maximum found\n",
    "    \n",
    "    # 2. Trough to Peak Duration\n",
    "    trough_index = np.argmin(interpolated_waveform)\n",
    "    if peak_index > trough_index:\n",
    "        features[1] = (peak_index - trough_index) / interpolation_factor\n",
    "    else:\n",
    "        features[1] = np.nan  # Assign NaN if peak does not follow trough\n",
    "    \n",
    "    return features\n"
   ]
  }
 ],
 "metadata": {
  "kernelspec": {
   "display_name": "Python 3",
   "language": "python",
   "name": "python3"
  },
  "language_info": {
   "codemirror_mode": {
    "name": "ipython",
    "version": 3
   },
   "file_extension": ".py",
   "mimetype": "text/x-python",
   "name": "python",
   "nbconvert_exporter": "python",
   "pygments_lexer": "ipython3",
   "version": "3.6.5"
  }
 },
 "nbformat": 4,
 "nbformat_minor": 5
}
