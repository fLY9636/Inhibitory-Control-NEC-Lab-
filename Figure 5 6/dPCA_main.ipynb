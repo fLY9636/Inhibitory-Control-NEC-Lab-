{
 "cells": [
  {
   "cell_type": "code",
   "execution_count": null,
   "id": "4779240f",
   "metadata": {},
   "outputs": [],
   "source": [
    "import numpy as np\n",
    "import os\n",
    "import natsort\n",
    "import time\n",
    "from my_dpca_module import myDPCA\n",
    "sys.path.append(f'{ROOTDIR}2021-22_Attention/NP 2023-12/myDPCA')\n",
    "from myDPCA import dpca, dpca_explainedVariance, dpca_custom_stimONLY"
   ]
  },
  {
   "cell_type": "markdown",
   "id": "b01343fd",
   "metadata": {},
   "source": [
    "### Collect dPCs (variances) - decision components ONLY"
   ]
  },
  {
   "cell_type": "code",
   "execution_count": null,
   "id": "6542598a",
   "metadata": {},
   "outputs": [],
   "source": [
    "data_dir = os.path.join(ROOTDIR, '')\n",
    "data_files = natsort.natsorted([os.path.join(data_dir, f) for f in os.listdir(data_dir)])\n",
    "\n",
    "Lumped_dpca_decision = [[None for _ in range(3)] for _ in range(len(data_files) // 2)]\n",
    "Lumped_dpca_independent = [[None for _ in range(3)] for _ in range(len(data_files) // 2)]\n",
    "Lumped_expVar_decision = np.zeros(len(data_files) // 2)\n",
    "\n",
    "# Loop through each data file\n",
    "for ss in range(len(data_files) // 2):\n",
    "    print(f\"Processing session {ss+1}/{len(data_files)//2}\")\n",
    "\n",
    "    data_success = np.load(data_files[ss])\n",
    "    data_fail = np.load(data_files[len(data_files) // 2 + ss])\n",
    "\n",
    "    reso = 1 / 0.1\n",
    "    time_vec = np.arange(1, data_success.shape[1] + 1) / reso - 5\n",
    "\n",
    "    # Initialize firing rates with NaNs\n",
    "    num_neurons = len(data_success)\n",
    "    max_trials = max(data_success.shape[0], data_fail.shape[0])\n",
    "    firing_rates = np.full((num_neurons, 2, data_success.shape[1], max_trials), np.nan)\n",
    "\n",
    "    # Fill firing rate data\n",
    "    for j in range(num_neurons):\n",
    "        firing_rates[j, 0, :, :data_fail.shape[0]] = data_fail[j].T\n",
    "        firing_rates[j, 1, :, :data_success.shape[0]] = data_success[j].T\n",
    "    firing_rates_average = np.nanmean(firing_rates, axis=3)\n",
    "\n",
    "    # Marginalization and DPCA parameters\n",
    "    combined_params = [{1, (1, 2)}, {2}]\n",
    "    marg_names = ['Decision', 'Condition-independent']\n",
    "    marg_colours = np.array([[187, 20, 25], [150, 150, 150]]) / 256\n",
    "    time_events = [time_vec[-1]]\n",
    "\n",
    "    start_time = time.time()\n",
    "    W, V, whichMarg = dpca(firing_rates_average, num_comps=20, combinedParams=combined_params, lambd=1e-4)\n",
    "    print(f\"dPCA completed in {time.time() - start_time:.2f} seconds\")\n",
    "\n",
    "    # Explained variance\n",
    "    explVar = dpca_explainedVariance(firing_rates_average, W, V, combinedParams=combined_params)\n",
    "\n",
    "    componentsToPlot, Zfull, options, Z = dpca_custom_stimONLY(\n",
    "        firing_rates_average, W, V, plot_function=dpca_plot_default,\n",
    "        explainedVar=explVar, marginalizationNames=marg_names,\n",
    "        marginalizationColours=marg_colours, whichMarg=whichMarg,\n",
    "        time=time_vec, timeEvents=time_events, timeMarginalization=3,\n",
    "        legendSubplot=16\n",
    "    )\n",
    "\n",
    "    # Collect the relevant components\n",
    "    for c, cc in enumerate(componentsToPlot):\n",
    "        this_var = options.explainedVar.componentVar[cc] if options.explainedVar else None\n",
    "        data = Zfull.take(c, axis=0)\n",
    "\n",
    "        if c < 3:\n",
    "            Lumped_dpca_decision[ss][c] = np.squeeze(data[0, :, :])\n",
    "        else:\n",
    "            Lumped_dpca_independent[ss][c - 3] = np.squeeze(data[0, :, :])\n",
    "\n",
    "        if c == 0:\n",
    "            Lumped_expVar_decision[ss] = this_var"
   ]
  }
 ],
 "metadata": {
  "kernelspec": {
   "display_name": "Python 3",
   "language": "python",
   "name": "python3"
  },
  "language_info": {
   "codemirror_mode": {
    "name": "ipython",
    "version": 3
   },
   "file_extension": ".py",
   "mimetype": "text/x-python",
   "name": "python",
   "nbconvert_exporter": "python",
   "pygments_lexer": "ipython3",
   "version": "3.6.5"
  }
 },
 "nbformat": 4,
 "nbformat_minor": 5
}
